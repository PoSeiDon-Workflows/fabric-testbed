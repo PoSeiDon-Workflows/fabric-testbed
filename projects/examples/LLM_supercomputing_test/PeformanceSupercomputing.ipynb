{
 "cells": [
  {
   "cell_type": "markdown",
   "id": "abc1d809-dc1e-4472-ae00-7a134feee2b0",
   "metadata": {},
   "source": [
    "# LLM Performance Supercomputing"
   ]
  },
  {
   "cell_type": "code",
   "execution_count": null,
   "id": "11f6d53c-4d4a-4692-ab4b-bcee89c571b4",
   "metadata": {},
   "outputs": [],
   "source": [
    "import sys\n",
    "import os\n",
    "import json\n",
    "import traceback\n",
    "import time\n",
    "from datetime import datetime, timedelta\n",
    "from dateutil import tz\n",
    "from ipaddress import ip_network, ip_address, IPv4Address, IPv6Address, IPv4Network, IPv6Network"
   ]
  },
  {
   "cell_type": "markdown",
   "id": "2563fb51-b0a2-402b-810a-b1e54fca1516",
   "metadata": {},
   "source": [
    "## Fabric Imports"
   ]
  },
  {
   "cell_type": "code",
   "execution_count": null,
   "id": "50f2cd4d-c85b-4517-9f36-af0d3fb9a3c0",
   "metadata": {},
   "outputs": [],
   "source": [
    "from fabrictestbed_extensions.fablib.fablib import FablibManager as fablib_manager\n",
    "\n",
    "fablib = fablib_manager()"
   ]
  },
  {
   "cell_type": "code",
   "execution_count": null,
   "id": "4929f051-bef1-49b6-b498-1f2aad10f336",
   "metadata": {},
   "outputs": [],
   "source": [
    "try:\n",
    "    fablib.list_sites(\n",
    "        force_refresh=True, \n",
    "        fields=[\n",
    "            \"name\", \n",
    "            \"cores_available\", \n",
    "            \"ram_available\",\n",
    "            \"disk_available\",\n",
    "            \"nic_basic_available\", \n",
    "            \"nic_connectx_5_available\", \n",
    "            \"nic_connectx_6_available\",\n",
    "            \"nvme_available\",\n",
    "            \"tesla_t4_available\",\n",
    "            \"rtx6000_available\",\n",
    "            \"a30_available\",\n",
    "            \"a40_available\",\n",
    "            \"a40_capacity\",\n",
    "            \"fpga_u280_available\"\n",
    "        ]\n",
    "    )\n",
    "except Exception as e:\n",
    "    print(f\"Exception: {e}\")"
   ]
  },
  {
   "cell_type": "markdown",
   "id": "60451416-b93c-4368-ab0b-03004d3ce9bd",
   "metadata": {
    "tags": []
   },
   "source": [
    "## Fabric Variables"
   ]
  },
  {
   "cell_type": "code",
   "execution_count": null,
   "id": "47b11ad9-64af-439a-be8f-351cc18d4f00",
   "metadata": {
    "tags": []
   },
   "outputs": [],
   "source": [
    "# FABRIC Config\n",
    "fabric_prefix =  f\"poseidon-supercomputing-\"\n",
    "fabric_slice_name = fabric_prefix+'testing'\n",
    "fabric_os_image='default_ubuntu_20'"
   ]
  },
  {
   "cell_type": "markdown",
   "id": "7a83d22f-7561-4ff0-aa92-9e1cb670f5ba",
   "metadata": {},
   "source": [
    "## Create Fabric Slice"
   ]
  },
  {
   "cell_type": "code",
   "execution_count": null,
   "id": "5075a988-c0a9-4ef3-b782-5a377caa8f4a",
   "metadata": {},
   "outputs": [],
   "source": [
    "try:\n",
    "    #Create Slice\n",
    "    fabric_slice = fablib.new_slice(name=fabric_slice_name)\n",
    "\n",
    "    # Add A30 node\n",
    "    fabric_a30 = fabric_slice.add_node(\n",
    "                    name=fabric_prefix+'a30', \n",
    "                    site='RUTG',\n",
    "                    image=fabric_os_image,\n",
    "                    cores=24,\n",
    "                    ram=64,\n",
    "                    disk=500)\n",
    "    fabric_a30.add_component(model=\"GPU_A30\", name='gpu1')\n",
    "    #fabric_a30.add_fabnet() ###this is only if you want to have multiple nodes communicated with each other through fabric's infrastructure\n",
    "\n",
    "    #Submit the Request\n",
    "    fabric_slice.submit()\n",
    "except Exception as e:\n",
    "    print(f\"Exception: {e}\")\n",
    "    traceback.print_exc()"
   ]
  },
  {
   "cell_type": "markdown",
   "id": "cfcca006-e009-40d3-a9e0-42d34d81ffbc",
   "metadata": {},
   "source": [
    "## NUMA Optimization"
   ]
  },
  {
   "cell_type": "code",
   "execution_count": null,
   "id": "f07057ea-086e-45f2-aa2b-a0a2393a5150",
   "metadata": {},
   "outputs": [],
   "source": [
    "try:\n",
    "    #Create Slice\n",
    "    fabric_slice = fablib.get_slice(fabric_slice_name)\n",
    "    \n",
    "    for fabric_node in fabric_slice.get_nodes():\n",
    "        print(f'----- Pinning vCPUs for node {fabric_node.get_name()} ------')\n",
    "        # Pin all vCPUs for VM to same Numa node as the component\n",
    "        fabric_node.pin_cpu(component_name='gpu1')\n",
    "        \n",
    "        # Pin memmory for VM to same Numa node as the components\n",
    "        fabric_node.numa_tune()\n",
    "        \n",
    "        # Reboot the VM\n",
    "        fabric_node.os_reboot()\n",
    "except Exception as e:\n",
    "    print(f\"Exception: {e}\")\n",
    "    traceback.print_exc()"
   ]
  },
  {
   "cell_type": "code",
   "execution_count": null,
   "id": "57fce0e2-c04d-48a9-a4e6-4fd4c5c393a1",
   "metadata": {},
   "outputs": [],
   "source": [
    "fabric_slice = fablib.get_slice(fabric_slice_name)\n",
    "\n",
    "# Wait for the SSH Connectivity to be back\n",
    "fabric_slice.wait_ssh()"
   ]
  },
  {
   "cell_type": "markdown",
   "id": "dc2ef7c0-3177-48f9-a6e0-49f1baf7776c",
   "metadata": {},
   "source": [
    "## Install Software on Fabric"
   ]
  },
  {
   "cell_type": "code",
   "execution_count": null,
   "id": "5de3fdc0-dd30-4e10-aa2d-4e01b4d247c9",
   "metadata": {},
   "outputs": [],
   "source": [
    "try:\n",
    "    fabric_slice = fablib.get_slice(name=fabric_slice_name)\n",
    "\n",
    "    for fabric_node in fabric_slice.get_nodes():\n",
    "        fabric_node.upload_file(\"/home/fabric/work/poseidon/LLM_Supercomputing_Test/setup.sh\", \"/home/ubuntu/setup.sh\")\n",
    "        #if type(ip_address(fabric_node.get_management_ip())) is IPv6Address:\n",
    "        #    fabric_node.execute(\"sudo sed -i 's/nameserver/nameserver 2a01:4f9:c010:3f02::1\\nnameserver 2a00:1098:2c::1\\nnameserver 2a00:1098:2b::1\\nnameserver/' /etc/resolv.conf\", quiet=True)\n",
    "\n",
    "except Exception as e:\n",
    "    print(f\"Exception: {e}\")\n",
    "    traceback.print_exc()"
   ]
  },
  {
   "cell_type": "code",
   "execution_count": null,
   "id": "8a2c0c77-5ea5-4592-908b-7214118f06ca",
   "metadata": {},
   "outputs": [],
   "source": [
    "try:\n",
    "    fabric_slice = fablib.get_slice(name=fabric_slice_name)\n",
    "\n",
    "    #Create execute threads\n",
    "    execute_threads = {}\n",
    "    for fabric_node in fabric_slice.get_nodes():\n",
    "        config_command = \"sudo bash /home/ubuntu/setup.sh\"\n",
    "        print(f\"Starting config on node {fabric_node.get_name()}\")\n",
    "        execute_threads[fabric_node] = fabric_node.execute_thread(config_command)\n",
    "        \n",
    "    #Wait for results from threads\n",
    "    for fabric_node,thread in execute_threads.items():\n",
    "        print(f\"Waiting for result from node {fabric_node.get_name()}\")\n",
    "        stdout,stderr = thread.result()\n",
    "                        \n",
    "    print(\"All Done!\")\n",
    "except Exception as e:\n",
    "    print(f\"Exception: {e}\")\n",
    "    traceback.print_exc()"
   ]
  },
  {
   "cell_type": "code",
   "execution_count": null,
   "id": "7dc8e840-25e8-428b-83fc-5e9fc4633874",
   "metadata": {},
   "outputs": [],
   "source": [
    "try:\n",
    "    fabric_slice = fablib.get_slice(name=fabric_slice_name)\n",
    "\n",
    "    #Create execute threads\n",
    "    execute_threads = {}\n",
    "    for fabric_node in fabric_slice.get_nodes():\n",
    "        fabric_node.execute(\"nvidia-smi\")\n",
    "                        \n",
    "    print(\"All Done!\")\n",
    "except Exception as e:\n",
    "    print(f\"Exception: {e}\")\n",
    "    traceback.print_exc()"
   ]
  },
  {
   "cell_type": "markdown",
   "id": "8431158c-4013-4ca7-a390-f05b8d69242f",
   "metadata": {},
   "source": [
    "## Extend Fabric Slice"
   ]
  },
  {
   "cell_type": "code",
   "execution_count": null,
   "id": "da936c18-9212-44b7-aeda-bf2026bd3c13",
   "metadata": {},
   "outputs": [],
   "source": [
    "# Prolong Fabric Slice For 14 Days\n",
    "end_date = (datetime.now(tz=tz.tzutc()) + timedelta(days=14)).strftime(\"%Y-%m-%d %H:%M:%S %z\")\n",
    "try:\n",
    "    fabric_slice = fablib.get_slice(name=fabric_slice_name)\n",
    "    fabric_slice = fabric_slice.renew(end_date)\n",
    "    \n",
    "    fabric_slice = fablib.get_slice(name=fabric_slice_name)\n",
    "    print(f'New lease end time: {fabric_slice.get_lease_end()}')\n",
    "except Exception as e:\n",
    "    print(f\"Fail: {e}\")\n",
    "    traceback.print_exc()"
   ]
  },
  {
   "cell_type": "markdown",
   "id": "d1be68fe-1825-4feb-9e58-da2603bd146b",
   "metadata": {},
   "source": [
    "## Cleanup Fabric (This Deletes The Deployment)"
   ]
  },
  {
   "cell_type": "code",
   "execution_count": null,
   "id": "6cb6751e-d888-46c4-9b00-001bdde7648a",
   "metadata": {},
   "outputs": [],
   "source": [
    "try:\n",
    "    fabric_slice = fablib.get_slice(fabric_slice_name)\n",
    "    fabric_slice.delete()\n",
    "except Exception as e:\n",
    "    print(f\"Exception: {e}\")"
   ]
  },
  {
   "cell_type": "code",
   "execution_count": null,
   "id": "519d0645-85e8-4dfd-9a16-dff9c1f754bf",
   "metadata": {},
   "outputs": [],
   "source": []
  }
 ],
 "metadata": {
  "kernelspec": {
   "display_name": "Python 3 (ipykernel)",
   "language": "python",
   "name": "python3"
  },
  "language_info": {
   "codemirror_mode": {
    "name": "ipython",
    "version": 3
   },
   "file_extension": ".py",
   "mimetype": "text/x-python",
   "name": "python",
   "nbconvert_exporter": "python",
   "pygments_lexer": "ipython3",
   "version": "3.9.17"
  }
 },
 "nbformat": 4,
 "nbformat_minor": 5
}
