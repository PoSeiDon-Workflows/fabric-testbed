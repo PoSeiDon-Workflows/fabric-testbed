{
 "cells": [
  {
   "cell_type": "markdown",
   "id": "abc1d809-dc1e-4472-ae00-7a134feee2b0",
   "metadata": {},
   "source": [
    "# Poseidon Setup Between Chameleon And Fabric"
   ]
  },
  {
   "cell_type": "code",
   "execution_count": null,
   "id": "11f6d53c-4d4a-4692-ab4b-bcee89c571b4",
   "metadata": {},
   "outputs": [],
   "source": [
    "import sys\n",
    "import os\n",
    "import json\n",
    "import traceback\n",
    "import time\n",
    "from datetime import datetime, timedelta\n",
    "from dateutil import tz\n",
    "from ipaddress import ip_address, IPv4Address, IPv6Address, IPv4Network, IPv6Network"
   ]
  },
  {
   "cell_type": "markdown",
   "id": "93266d76-6177-46a3-9f55-f63d719880c7",
   "metadata": {},
   "source": [
    "## Chameleon Imports"
   ]
  },
  {
   "cell_type": "code",
   "execution_count": null,
   "id": "070b596c-b97b-4fc6-b8e9-4b9f2947e9c0",
   "metadata": {},
   "outputs": [],
   "source": [
    "import chi\n",
    "import chi.lease"
   ]
  },
  {
   "cell_type": "markdown",
   "id": "2563fb51-b0a2-402b-810a-b1e54fca1516",
   "metadata": {},
   "source": [
    "## Fabric Imports"
   ]
  },
  {
   "cell_type": "code",
   "execution_count": null,
   "id": "50f2cd4d-c85b-4517-9f36-af0d3fb9a3c0",
   "metadata": {},
   "outputs": [],
   "source": [
    "from fabrictestbed_extensions.fablib.fablib import FablibManager as fablib_manager\n",
    "\n",
    "fablib = fablib_manager()"
   ]
  },
  {
   "cell_type": "code",
   "execution_count": null,
   "id": "4929f051-bef1-49b6-b498-1f2aad10f336",
   "metadata": {},
   "outputs": [],
   "source": [
    "try:\n",
    "    fablib.list_sites(\n",
    "        force_refresh=True, \n",
    "        fields=[\n",
    "            \"name\", \n",
    "            \"cores_available\", \n",
    "            \"ram_available\",\n",
    "            \"disk_available\",\n",
    "            \"nic_basic_available\", \n",
    "            \"nic_connectx_5_available\", \n",
    "            \"nic_connectx_6_available\",\n",
    "            \"nvme_available\",\n",
    "            \"tesla_t4_available\",\n",
    "            \"rtx6000_available\",\n",
    "            \"a30_available\",\n",
    "            \"a40_available\",\n",
    "            \"fpga_u280_available\"\n",
    "        ]\n",
    "    )\n",
    "except Exception as e:\n",
    "    print(f\"Exception: {e}\")"
   ]
  },
  {
   "cell_type": "markdown",
   "id": "7c28ddfd-76ac-4780-8088-63abf74be102",
   "metadata": {
    "tags": []
   },
   "source": [
    "## Chameleon Variables"
   ]
  },
  {
   "cell_type": "markdown",
   "id": "acbdb6ec-c83c-4b70-8783-c881aa8e2624",
   "metadata": {},
   "source": [
    "For stitching to work we need to specify stich provider \"fabric\" and physical network \"physnet1\""
   ]
  },
  {
   "cell_type": "code",
   "execution_count": null,
   "id": "db31f891-7d12-4aa7-991a-2bb5dd0053e6",
   "metadata": {},
   "outputs": [],
   "source": [
    "# Chameleon Config\n",
    "chameleon_prefix =  f\"poseidon-\"\n",
    "chameleon_server_name = chameleon_prefix+'worker'\n",
    "chameleon_network_name = chameleon_prefix+'net'\n",
    "chameleon_subnet_name = chameleon_prefix+'subnet'\n",
    "chameleon_router_name = chameleon_prefix+'router'\n",
    "chameleon_lease_name = chameleon_prefix+'lease'\n",
    "\n",
    "chameleon_image_name='CC-Ubuntu20.04'\n",
    "chameleon_node_type=\"compute_cascadelake_r\"\n",
    "chameleon_physical_network='physnet1'\n",
    "chameleon_stitch_provider='fabric'\n",
    "chameleon_server_count=1\n",
    "chameleon_key_name='fabric-chameleon'\n",
    "\n",
    "#Chameleon Network Config\n",
    "chameleon_subnet_addr = \"192.168.100.0/24\"\n",
    "chameleon_allocation_pool_start='192.168.100.10'\n",
    "chameleon_allocation_pool_end='192.168.100.20'\n",
    "chameleon_gateway_ip_addr='192.168.100.1'"
   ]
  },
  {
   "cell_type": "markdown",
   "id": "60451416-b93c-4368-ab0b-03004d3ce9bd",
   "metadata": {
    "tags": []
   },
   "source": [
    "## Fabric Variables"
   ]
  },
  {
   "cell_type": "code",
   "execution_count": null,
   "id": "47b11ad9-64af-439a-be8f-351cc18d4f00",
   "metadata": {
    "tags": []
   },
   "outputs": [],
   "source": [
    "# Create a FABlib manager\n",
    "fablib.show_config()\n",
    "\n",
    "# FABRIC Config\n",
    "fabric_prefix =  f\"poseidon-\"\n",
    "fabric_slice_name = fabric_prefix+'experiment'\n",
    "fabric_os_image='default_ubuntu_20'\n",
    "\n",
    "fabric_facility_port_name = \"Chameleon-StarLight\"\n",
    "fabric_facility_port_site = \"STAR\"\n",
    "\n",
    "fabric_submit_name = fabric_prefix+'submit'\n",
    "fabric_submit_site = 'STAR'\n",
    "fabric_submit_host = \"star-w3.fabric-testbed.net\"\n",
    "fabric_submit_cores = 16\n",
    "fabric_submit_ram = 32\n",
    "fabric_submit_disk = 100\n",
    "fabric_submit_ip_addr =\"192.168.101.100\"\n",
    "\n",
    "fabric_data_name = fabric_prefix+'data'\n",
    "fabric_data_site='DALL'\n",
    "fabric_data_host=\"dall-w2.fabric-testbed.net\"\n",
    "fabric_data_cores = 16\n",
    "fabric_data_ram = 32\n",
    "fabric_data_disk = 250\n",
    "fabric_data_ip_addr =\"192.168.101.200\"\n",
    "\n",
    "fabric_router_name = fabric_prefix+'router'\n",
    "fabric_router_site = 'STAR'\n",
    "fabric_router_cores = 16\n",
    "fabric_router_ram = 32\n",
    "fabric_router_disk = 40\n",
    "fabric_router_ip_addr =\"192.168.101.250\"\n",
    "fabric_router_stitch_ip_addr =\"192.168.100.250\"\n",
    "\n",
    "#Fabric Network Config\n",
    "fabric_subnet_addr = \"192.168.101.0/24\"\n",
    "fabric_chameleon_network_name = \"fabric_chameleon_net\"\n",
    "fabric_network_name = \"fabric_net\"\n",
    "#fabric_vlan_value = 1000"
   ]
  },
  {
   "cell_type": "markdown",
   "id": "a02f77b8-645e-4b0f-879b-9c02bfc7efbb",
   "metadata": {},
   "source": [
    "## Create Chameleon Lease For Compute and Network"
   ]
  },
  {
   "cell_type": "code",
   "execution_count": null,
   "id": "9c3e970f-7232-495d-bcfb-89595fdf775e",
   "metadata": {},
   "outputs": [],
   "source": [
    "BLAZAR_TIME_FORMAT = '%Y-%m-%d %H:%M'\n",
    "\n",
    "try:\n",
    "    # Set start/end date for lease\n",
    "    # Start one minute into future to avoid Blazar thinking lease is in past\n",
    "    # due to rounding to closest minute.\n",
    "    start_date = (datetime.now(tz=tz.tzutc()) + timedelta(minutes=1)).strftime(BLAZAR_TIME_FORMAT)\n",
    "    end_date   = (datetime.now(tz=tz.tzutc()) + timedelta(days=1)).strftime(BLAZAR_TIME_FORMAT)\n",
    "\n",
    "    # Build list of reservations (in this case there is only one reservation)\n",
    "    reservation_list = []\n",
    "    chi.lease.add_node_reservation(reservation_list, count=chameleon_server_count, node_type=chameleon_node_type)\n",
    "\n",
    "    reservation_list.append(\n",
    "            {\n",
    "                \"resource_type\": \"network\",\n",
    "                \"network_name\": chameleon_network_name,\n",
    "                \"network_properties\": \"\",\n",
    "                \"resource_properties\": json.dumps(\n",
    "                    [\"==\", \"$stitch_provider\", chameleon_stitch_provider]\n",
    "                ),\n",
    "            }\n",
    "    )\n",
    "    \n",
    "    #reservation_list.append(\n",
    "    #        {\n",
    "    #            \"resource_type\": \"network\",\n",
    "    #            \"network_name\": chameleon_network_name,\n",
    "    #            \"network_properties\": \"\",\n",
    "    #            \"resource_properties\": json.dumps(\n",
    "    #                [\"==\", \"$segment_id\", \"3303\"]\n",
    "    #            ),\n",
    "    #        }\n",
    "    #)\n",
    "\n",
    "\n",
    "    # Create the lease\n",
    "    chameleon_lease = chi.lease.create_lease(chameleon_lease_name,\n",
    "                                      reservations=reservation_list,\n",
    "                                      start_date=start_date,\n",
    "                                      end_date=end_date)\n",
    "\n",
    "    #Print the lease info\n",
    "    chameleon_compute_reservation_id = [reservation for reservation in chameleon_lease['reservations'] if reservation['resource_type'] == 'physical:host'][0]['id']\n",
    "    print(f\"chameleon_compute_reservation_id: {chameleon_compute_reservation_id}\")\n",
    "    chameleon_network_reservation_id = [reservation for reservation in chameleon_lease['reservations'] if reservation['resource_type'] == 'network'][0]['id']\n",
    "    print(f\"chameleon_network_reservation_id: {chameleon_network_reservation_id}\")\n",
    "except Exception as e:\n",
    "    print(f\"Exception: {e}\")\n",
    "    traceback.print_exc()"
   ]
  },
  {
   "cell_type": "markdown",
   "id": "2643904b-e598-484e-9222-845f323352e3",
   "metadata": {},
   "source": [
    "## Wait Until Network Gets Provisioned"
   ]
  },
  {
   "cell_type": "code",
   "execution_count": null,
   "id": "d794db2a-b566-437f-9b6d-65d1e200bb79",
   "metadata": {},
   "outputs": [],
   "source": [
    "chameleon_network = None\n",
    "chameleon_network_id = None\n",
    "chameleon_network_vlan = None\n",
    "\n",
    "while chameleon_network_vlan == None:\n",
    "    try:\n",
    "        #Get the network\n",
    "        chameleon_network = chi.network.get_network(chameleon_network_name)\n",
    "\n",
    "        #Get the network ID\n",
    "        chameleon_network_id = chameleon_network['id']\n",
    "        print(f'Chameleon Network ID: {chameleon_network_id}')\n",
    "\n",
    "        #Get the VLAN tag (needed for FABRIC stitching)\n",
    "        chameleon_network_vlan = chameleon_network['provider:segmentation_id']\n",
    "        print(f'network_vlan: {chameleon_network_vlan}')\n",
    "    except:\n",
    "        print(f'Chameleon Network is not ready. Trying again!')\n",
    "        time.sleep(10)           "
   ]
  },
  {
   "cell_type": "markdown",
   "id": "484313ec-ae16-4ee2-9feb-476c25b13d26",
   "metadata": {},
   "source": [
    "## Create Chameleon's Subnet"
   ]
  },
  {
   "cell_type": "code",
   "execution_count": null,
   "id": "27bf7299-1cfc-4b03-86d8-9c7a563c84e2",
   "metadata": {},
   "outputs": [],
   "source": [
    "try:\n",
    "    chameleon_subnet = chi.network.create_subnet(chameleon_subnet_name, chameleon_network_id, \n",
    "                                             cidr=str(chameleon_subnet_addr),\n",
    "                                             allocation_pool_start=chameleon_allocation_pool_start,\n",
    "                                             allocation_pool_end=chameleon_allocation_pool_end,\n",
    "                                             gateway_ip=chameleon_gateway_ip_addr)\n",
    "    chameleon_subnet_id = chameleon_subnet[\"id\"]\n",
    "except Exception as e:\n",
    "    print(f\"Exception: {e}\")\n",
    "    traceback.print_exc()\n",
    "\n",
    "print(json.dumps(chameleon_subnet, indent=2))"
   ]
  },
  {
   "cell_type": "markdown",
   "id": "a6253d98-fe92-46a8-9c1d-7f5556d3528b",
   "metadata": {},
   "source": [
    "## Create Chameleon's Router and Add The Subnet"
   ]
  },
  {
   "cell_type": "code",
   "execution_count": null,
   "id": "8403b3fb-7f1d-469e-9c29-d19c63b9b859",
   "metadata": {},
   "outputs": [],
   "source": [
    "try:\n",
    "    chameleon_router = chi.network.create_router(chameleon_router_name, gw_network_name='public')\n",
    "    chameleon_router = chi.network.add_subnet_to_router(chameleon_router['id'], chameleon_subnet_id)\n",
    "    chameleon_router = chi.network.add_route_to_router(chameleon_router['id'], fabric_subnet_addr, fabric_router_stitch_ip_addr)\n",
    "except Exception as e:\n",
    "    print(f\"Exception: {e}\")\n",
    "    traceback.print_exc()\n",
    "    \n",
    "print(json.dumps(chameleon_router, indent=2))"
   ]
  },
  {
   "cell_type": "markdown",
   "id": "7a83d22f-7561-4ff0-aa92-9e1cb670f5ba",
   "metadata": {},
   "source": [
    "## Create Fabric Slice With Facility Port"
   ]
  },
  {
   "cell_type": "markdown",
   "id": "83dd684e-81df-4cf0-9096-9b14a3c6da96",
   "metadata": {},
   "source": [
    "Facility ports currently only work with the dedicate Smart Nics (ConnectX_5 and ConnectX_6)\n",
    "Additionally stitching can work from within the same site that has the Facility Port or from VMs in different sites, but the connection type is L2PTP.\n",
    "Finally each Facility Port has its own permission on Fabric which the project needs to gain access before using"
   ]
  },
  {
   "cell_type": "code",
   "execution_count": null,
   "id": "5075a988-c0a9-4ef3-b782-5a377caa8f4a",
   "metadata": {},
   "outputs": [],
   "source": [
    "try:\n",
    "    #Create Slice\n",
    "    fabric_slice = fablib.new_slice(name=fabric_slice_name)\n",
    "    \n",
    "    # Add facility port\n",
    "    fabric_facility_port = fabric_slice.add_facility_port(name=fabric_facility_port_name, site=fabric_facility_port_site, vlan=str(chameleon_network_vlan))\n",
    "    fabric_facility_port_iface = fabric_facility_port.get_interfaces()[0]\n",
    "    \n",
    "    # Add poseidon router node\n",
    "    fabric_router = fabric_slice.add_node(\n",
    "                        name=fabric_router_name, \n",
    "                        site=fabric_router_site,\n",
    "                        image=fabric_os_image,\n",
    "                        cores=fabric_router_cores,\n",
    "                        ram=fabric_router_ram,\n",
    "                        disk=fabric_router_disk)\n",
    "    \n",
    "    fabric_router_nic = fabric_router.add_component(model='NIC_ConnectX_5', name=\"fabric_router_nic\")\n",
    "    fabric_router_iface_to_chameleon = fabric_router_nic.get_interfaces()[0]\n",
    "    #fabric_router_iface_to_chameleon.set_vlan(fabric_vlan_value)\n",
    "    \n",
    "    fabric_router_iface_to_fabric = fabric_router_nic.get_interfaces()[1]\n",
    "    #fabric_router_iface_to_fabric.set_vlan(fabric_vlan_value)\n",
    "    \n",
    "    # Add poseidon submit node\n",
    "    fabric_submit = fabric_slice.add_node(\n",
    "                        name=fabric_submit_name, \n",
    "                        site=fabric_submit_site,\n",
    "                        host=fabric_submit_host,\n",
    "                        image=fabric_os_image,\n",
    "                        cores=fabric_submit_cores,\n",
    "                        ram=fabric_submit_ram,\n",
    "                        disk=fabric_submit_disk)\n",
    "    \n",
    "    fabric_submit_iface = fabric_submit.add_component(model='NIC_Basic', name=\"fabric_submit_nic\").get_interfaces()[0]\n",
    "    #fabric_submit_iface.set_vlan(fabric_vlan_value)\n",
    "    \n",
    "    # Add poseidon router node\n",
    "    fabric_data = fabric_slice.add_node(\n",
    "                    name=fabric_data_name, \n",
    "                    site=fabric_data_site,\n",
    "                    host=fabric_data_host,\n",
    "                    image=fabric_os_image,\n",
    "                    cores=fabric_data_cores,\n",
    "                    ram=fabric_data_ram,\n",
    "                    disk=fabric_data_disk)\n",
    "    \n",
    "    fabric_data_iface = fabric_data.add_component(model='NIC_Basic', name=\"fabric_data_nic\").get_interfaces()[0]\n",
    "    #fabric_data_iface.set_vlan(fabric_vlan_value)\n",
    "    \n",
    "    #Create the l2networks\n",
    "    fabric_chameleon_net = fabric_slice.add_l2network(name=fabric_chameleon_network_name, interfaces=[fabric_router_iface_to_chameleon,fabric_facility_port_iface])\n",
    "    fabric_net = fabric_slice.add_l2network(name=fabric_network_name, interfaces=[fabric_router_iface_to_fabric,fabric_submit_iface,fabric_data_iface])\n",
    "\n",
    "    #Submit the Request\n",
    "    fabric_slice.submit()\n",
    "except Exception as e:\n",
    "    print(f\"Exception: {e}\")\n",
    "    traceback.print_exc()"
   ]
  },
  {
   "cell_type": "markdown",
   "id": "adcd7b56-4e9c-40cf-bd38-20e39d9ee7dc",
   "metadata": {},
   "source": [
    "## Configure Network on Fabric Router"
   ]
  },
  {
   "cell_type": "code",
   "execution_count": null,
   "id": "8fd99def-bd8d-4e7d-b510-309f93e585cf",
   "metadata": {},
   "outputs": [],
   "source": [
    "try:\n",
    "    fabric_slice = fablib.get_slice(name=fabric_slice_name)\n",
    "    fabric_router = fabric_slice.get_node(name=fabric_router_name)\n",
    "    \n",
    "    fabric_router_iface_to_chameleon = fabric_router.get_interface(network_name=fabric_chameleon_network_name)\n",
    "    fabric_router_iface_to_fabric = fabric_router.get_interface(network_name=fabric_network_name)\n",
    "\n",
    "    fabric_router_iface_to_chameleon_os_name = fabric_router_iface_to_chameleon.get_os_interface()\n",
    "    fabric_router_iface_to_fabric_os_name = fabric_router_iface_to_fabric.get_os_interface()\n",
    "\n",
    "    stdout, stderr = fabric_router.execute(f'sudo ip link set dev {fabric_router_iface_to_chameleon_os_name} up', quiet=True)\n",
    "    #stdout, stderr = fabric_router.execute(f'sudo ip link set mtu 8900 dev {fabric_router_iface_to_chameleon_os_name}', quiet=True)\n",
    "    stdout, stderr = fabric_router.execute(f'sudo ip addr add {fabric_router_stitch_ip_addr}/24 dev {fabric_router_iface_to_chameleon_os_name}', quiet=True)\n",
    "    stdout, stderr = fabric_router.execute(f'sudo tc qdisc add dev {fabric_router_iface_to_chameleon_os_name} root fq', quiet=True)\n",
    "\n",
    "    stdout, stderr = fabric_router.execute(f'sudo ip link set dev {fabric_router_iface_to_fabric_os_name} up', quiet=True)\n",
    "    #stdout, stderr = fabric_router.execute(f'sudo ip link set mtu 8900 dev {fabric_router_iface_to_fabric_os_name}', quiet=True)\n",
    "    stdout, stderr = fabric_router.execute(f'sudo ip addr add {fabric_router_ip_addr}/24 dev {fabric_router_iface_to_fabric_os_name}', quiet=True)\n",
    "    stdout, stderr = fabric_router.execute(f'sudo tc qdisc add dev {fabric_router_iface_to_fabric_os_name} root fq', quiet=True)\n",
    "    \n",
    "    #add default gateway\n",
    "    stdout, stderr = fabric_router.execute(f'sudo ip route add default via {chameleon_gateway_ip_addr}', quiet=True)\n",
    "    \n",
    "    #enable ip forwarding\n",
    "    stdout, stderr = fabric_router.execute('sudo sysctl -w net.ipv4.ip_forward=1', quiet=True)\n",
    "    \n",
    "    stdout, stderr = fabric_router.execute(f'ip route show', quiet=True)\n",
    "    print (stdout)\n",
    "    \n",
    "    stdout, stderr = fabric_router.execute(f'ip addr show', quiet=True)\n",
    "    print (stdout)\n",
    "except Exception as e:\n",
    "    print(f\"Exception: {e}\")\n",
    "    traceback.print_exc()"
   ]
  },
  {
   "cell_type": "markdown",
   "id": "63b8bccd-3d4d-4771-9047-78f0a0150f0d",
   "metadata": {},
   "source": [
    "## Configure Network on Submit Node"
   ]
  },
  {
   "cell_type": "code",
   "execution_count": null,
   "id": "06b1c372-d4a9-4bff-98bb-0420824c2bb6",
   "metadata": {},
   "outputs": [],
   "source": [
    "try:\n",
    "    fabric_slice = fablib.get_slice(name=fabric_slice_name)\n",
    "    fabric_submit = fabric_slice.get_node(name=fabric_submit_name)\n",
    "    \n",
    "    fabric_submit_iface = fabric_submit.get_interface(network_name=fabric_network_name)\n",
    "    fabric_submit_iface_os_name = fabric_submit_iface.get_os_interface()\n",
    "\n",
    "    stdout, stderr = fabric_submit.execute(f'sudo ip link set dev {fabric_submit_iface_os_name} up', quiet=True)\n",
    "    #stdout, stderr = fabric_submit.execute(f'sudo ip link set mtu 8900 dev {fabric_submit_iface_os_name}', quiet=True)\n",
    "    stdout, stderr = fabric_submit.execute(f'sudo ip addr add {fabric_submit_ip_addr}/24 dev {fabric_submit_iface_os_name}', quiet=True)\n",
    "    stdout, stderr = fabric_submit.execute(f'sudo tc qdisc add dev {fabric_submit_iface_os_name} root fq', quiet=True)\n",
    "    \n",
    "    #add default gateway and route to chameleon subnet via router\n",
    "    #stdout, stderr = fabric_submit.execute(f'sudo ip route add {chameleon_subnet_address} via {fabric_router_ip_addr}', quiet=True)\n",
    "    stdout, stderr = fabric_submit.execute(f'sudo ip route add default via {fabric_router_ip_addr}', quiet=True)\n",
    "\n",
    "    stdout, stderr = fabric_submit.execute(f'ip route show', quiet=True)\n",
    "    print (stdout)\n",
    "    \n",
    "    stdout, stderr = fabric_submit.execute(f'ip addr show', quiet=True)\n",
    "    print (stdout)\n",
    "except Exception as e:\n",
    "    print(f\"Exception: {e}\")\n",
    "    traceback.print_exc()"
   ]
  },
  {
   "cell_type": "markdown",
   "id": "b9d95df8-e0d8-4236-b209-3a81423ca533",
   "metadata": {},
   "source": [
    "## Configure Network on Data Node"
   ]
  },
  {
   "cell_type": "code",
   "execution_count": null,
   "id": "947cbd50-971d-49bb-9a7b-1b01db3379d9",
   "metadata": {},
   "outputs": [],
   "source": [
    "try:\n",
    "    fabric_slice = fablib.get_slice(name=fabric_slice_name)\n",
    "    fabric_data = fabric_slice.get_node(name=fabric_data_name)\n",
    "    \n",
    "    fabric_data_iface = fabric_data.get_interface(network_name=fabric_network_name)\n",
    "    fabric_data_iface_os_name = fabric_data_iface.get_os_interface()\n",
    "\n",
    "    stdout, stderr = fabric_data.execute(f'sudo ip link set dev {fabric_data_iface_os_name} up', quiet=True)\n",
    "    #stdout, stderr = fabric_data.execute(f'sudo ip link set mtu 8900 dev {fabric_data_iface_os_name}', quiet=True)\n",
    "    stdout, stderr = fabric_data.execute(f'sudo ip addr add {fabric_data_ip_addr}/24 dev {fabric_data_iface_os_name}', quiet=True)\n",
    "    stdout, stderr = fabric_data.execute(f'sudo tc qdisc add dev {fabric_data_iface_os_name} root fq', quiet=True)\n",
    "    \n",
    "    #add default gateway and route to chameleon subnet via router\n",
    "    #stdout, stderr = fabric_data.execute(f'sudo ip route add {chameleon_subnet_address} via {fabric_router_ip_addr}', quiet=True)\n",
    "    stdout, stderr = fabric_data.execute(f'sudo ip route add default via {fabric_router_ip_addr}', quiet=True)\n",
    "\n",
    "    stdout, stderr = fabric_data.execute(f'ip route show', quiet=True)\n",
    "    print (stdout)\n",
    "    \n",
    "    stdout, stderr = fabric_data.execute(f'ip addr show', quiet=True)\n",
    "    print (stdout)\n",
    "except Exception as e:\n",
    "    print(f\"Exception: {e}\")\n",
    "    traceback.print_exc()"
   ]
  },
  {
   "cell_type": "markdown",
   "id": "6239c89e-eea7-4c73-8cb5-1bf5e2567fb2",
   "metadata": {},
   "source": [
    "## Sanity Check: Ping Chameleon Router From Fabric"
   ]
  },
  {
   "cell_type": "code",
   "execution_count": null,
   "id": "22dddadb-bf47-4775-831c-277ad32a00bc",
   "metadata": {},
   "outputs": [],
   "source": [
    "try:\n",
    "    fabric_slice = fablib.get_slice(name=fabric_slice_name)\n",
    "    fabric_node = fabric_slice.get_node(name=fabric_router_name) \n",
    "    stdout, stderr = fabric_node.execute(f'ping -c 4 {chameleon_gateway_ip_addr}')\n",
    "    print (stdout)\n",
    "except Exception as e:\n",
    "    print(f\"Exception: {e}\")\n",
    "    traceback.print_exc()"
   ]
  },
  {
   "cell_type": "markdown",
   "id": "f9cf915d-7c31-4ac4-8080-70c82fd7fc36",
   "metadata": {},
   "source": [
    "## Sanity Check: Ping Fabric Nodes From Fabric Router"
   ]
  },
  {
   "cell_type": "code",
   "execution_count": null,
   "id": "456dbcd4-8157-44fe-baa1-88e548477cf0",
   "metadata": {},
   "outputs": [],
   "source": [
    "try:\n",
    "    fabric_slice = fablib.get_slice(name=fabric_slice_name)\n",
    "    fabric_node = fabric_slice.get_node(name=fabric_router_name) \n",
    "    stdout, stderr = fabric_node.execute(f'ping -c 4 {fabric_submit_ip_addr}')\n",
    "    stdout, stderr = fabric_node.execute(f'ping -c 4 {fabric_data_ip_addr}')\n",
    "except Exception as e:\n",
    "    print(f\"Exception: {e}\")\n",
    "    traceback.print_exc()"
   ]
  },
  {
   "cell_type": "markdown",
   "id": "d40e1330-14d6-4271-8b9f-501baea16e70",
   "metadata": {},
   "source": [
    "## Sanity Check: Ping Chameleon Router From Fabric Nodes"
   ]
  },
  {
   "cell_type": "code",
   "execution_count": null,
   "id": "3416f974-cd95-44ff-8bb2-234bc0775a92",
   "metadata": {},
   "outputs": [],
   "source": [
    "try:\n",
    "    fabric_slice = fablib.get_slice(name=fabric_slice_name)\n",
    "    fabric_node = fabric_slice.get_node(name=fabric_submit_name) \n",
    "    stdout, stderr = fabric_node.execute(f'ping -c 4 {chameleon_gateway_ip_addr}')\n",
    "    \n",
    "    fabric_node = fabric_slice.get_node(name=fabric_data_name) \n",
    "    stdout, stderr = fabric_node.execute(f'ping -c 4 {chameleon_gateway_ip_addr}')\n",
    "except Exception as e:\n",
    "    print(f\"Exception: {e}\")\n",
    "    traceback.print_exc()"
   ]
  },
  {
   "cell_type": "markdown",
   "id": "fd286039-948a-4cd9-8862-01b06875516e",
   "metadata": {},
   "source": [
    "## Create Chameleon Nodes If Router Responds to Ping"
   ]
  },
  {
   "cell_type": "code",
   "execution_count": null,
   "id": "b9a1afd4-696d-4d0a-9dfc-fb1e31057ba7",
   "metadata": {},
   "outputs": [],
   "source": [
    "servers=[]\n",
    "\n",
    "try:\n",
    "    for i in range(chameleon_server_count):\n",
    "        server_name=f\"{chameleon_server_name}-{i}\"\n",
    "        \n",
    "        # Create the server\n",
    "        servers.append(chi.server.create_server(server_name, \n",
    "                              reservation_id=chameleon_compute_reservation_id, \n",
    "                              network_name=chameleon_network_name, \n",
    "                              image_name=chameleon_image_name,\n",
    "                              key_name=chameleon_key_name))\n",
    "\n",
    "except Exception as e:\n",
    "    print(f\"Exception: {e}\")\n",
    "    traceback.print_exc()\n",
    "\n",
    "for server in servers:\n",
    "    chi.server.wait_for_active(server.id)"
   ]
  },
  {
   "cell_type": "code",
   "execution_count": null,
   "id": "cb58884e-5622-4710-8a6a-997cc3cda4b3",
   "metadata": {},
   "outputs": [],
   "source": [
    "# Give 5 more minutes for the Chameleon Nodes to Stabilize\n",
    "time.sleep(300)"
   ]
  },
  {
   "cell_type": "markdown",
   "id": "df0ad3aa-95da-4c28-9602-9744ef018585",
   "metadata": {},
   "source": [
    "## Get Chameleon Worker IPs"
   ]
  },
  {
   "cell_type": "code",
   "execution_count": null,
   "id": "64e49780-d9b4-4bdb-b9e6-d47a2e67830f",
   "metadata": {},
   "outputs": [],
   "source": [
    "chameleon_fixed_ips={}\n",
    "\n",
    "try:\n",
    "    for i in range(chameleon_server_count):\n",
    "        chi_server_name=f\"{chameleon_server_name}-{i}\"\n",
    "        chi_server_id = chi.server.get_server_id(chi_server_name)\n",
    "        chi_fixed_ip = chi.server.get_server(chi_server_id).interface_list()[0].to_dict()[\"fixed_ips\"][0][\"ip_address\"]\n",
    "        chameleon_fixed_ips[chi_server_name]=chi_fixed_ip\n",
    "except Exception as e:\n",
    "    print(f\"Exception: {e}\")\n",
    "    traceback.print_exc()\n",
    "    \n",
    "for chi_server_name,chi_fixed_ip in chameleon_fixed_ips.items():\n",
    "    print(f'{chi_server_name}: {chi_fixed_ip}')"
   ]
  },
  {
   "cell_type": "markdown",
   "id": "ee7403ba-90fa-4d41-b0a6-54bfc8ae8a61",
   "metadata": {},
   "source": [
    "## Sanity Check: Ping Chameleon Nodes From Fabric"
   ]
  },
  {
   "cell_type": "code",
   "execution_count": null,
   "id": "0ea1e4ae-93eb-4e52-9b02-58a3326e8b4a",
   "metadata": {},
   "outputs": [],
   "source": [
    "try:\n",
    "    fabric_slice = fablib.get_slice(name=fabric_slice_name)\n",
    "    fabric_node = fabric_slice.get_node(name=fabric_submit_name)\n",
    "    \n",
    "    for chi_server_name,chi_fixed_ip in chameleon_fixed_ips.items():\n",
    "        stdout, stderr = fabric_node.execute(f'ping -c 10 {chi_fixed_ip}')\n",
    "        \n",
    "except Exception as e:\n",
    "    print(f\"Exception: {e}\")\n",
    "    traceback.print_exc()"
   ]
  },
  {
   "cell_type": "markdown",
   "id": "eb7a5d84-97e7-4c19-b503-faf7f47c4c06",
   "metadata": {
    "tags": []
   },
   "source": [
    "## Cleanup Chameleon"
   ]
  },
  {
   "cell_type": "code",
   "execution_count": null,
   "id": "a67c0a6e-7c6b-4cef-8793-10ae39fc6d1f",
   "metadata": {},
   "outputs": [],
   "source": [
    "for i in range(chameleon_server_count):\n",
    "    server_name=f\"{chameleon_server_name}-{i}\"\n",
    "    chi.server.delete_server(chi.server.get_server_id(server_name))\n",
    "\n",
    "# Wait for the nodes to be deleted\n",
    "time.sleep(200)"
   ]
  },
  {
   "cell_type": "code",
   "execution_count": null,
   "id": "253a0b57-2578-4b47-90b0-f089786b5fe3",
   "metadata": {},
   "outputs": [],
   "source": [
    "router_id = chameleon_router['router']['id']\n",
    "subnet_id = chameleon_subnet['id']\n",
    "network_id = chameleon_network_id\n",
    "\n",
    "try:\n",
    "    result = chi.network.remove_all_routes_from_router(router_id)\n",
    "except Exception as e:\n",
    "    print(f\"detach_router error: {str(e)}\")"
   ]
  },
  {
   "cell_type": "code",
   "execution_count": null,
   "id": "757187e0-80c3-4d23-a356-c76773233393",
   "metadata": {},
   "outputs": [],
   "source": [
    "try:\n",
    "    result = chi.network.remove_subnet_from_router(router_id, subnet_id)\n",
    "except Exception as e:\n",
    "    print(f\"detach_router error: {str(e)}\")"
   ]
  },
  {
   "cell_type": "code",
   "execution_count": null,
   "id": "fa87821c-1966-4961-9790-5ba1cfe41f41",
   "metadata": {},
   "outputs": [],
   "source": [
    "try:\n",
    "    result = chi.network.delete_router(router_id)\n",
    "except Exception as e:\n",
    "    print(f\"delete_router error: {str(e)}\")"
   ]
  },
  {
   "cell_type": "code",
   "execution_count": null,
   "id": "48579dac-a220-4d21-ad0f-3d31cd47b7c3",
   "metadata": {},
   "outputs": [],
   "source": [
    "try:\n",
    "    result = chi.network.delete_subnet(subnet_id)\n",
    "except Exception as e:\n",
    "    print(f\"delete_subnet error: {str(e)}\")"
   ]
  },
  {
   "cell_type": "code",
   "execution_count": null,
   "id": "cf2f462d-8228-451c-b796-a36413fb9a0e",
   "metadata": {},
   "outputs": [],
   "source": [
    "try:\n",
    "    result = chi.network.delete_network(network_id)\n",
    "except Exception as e:\n",
    "    print(f\"delete_network error: {str(e)}\")"
   ]
  },
  {
   "cell_type": "code",
   "execution_count": null,
   "id": "db961344-fedb-44bf-93b9-c1e2ef4d3701",
   "metadata": {},
   "outputs": [],
   "source": [
    "try:\n",
    "    chi.lease.delete_lease(chameleon_lease['id'])\n",
    "except Exception as e:\n",
    "    print(f\"delete_lease error: {str(e)}\")"
   ]
  },
  {
   "cell_type": "markdown",
   "id": "d1be68fe-1825-4feb-9e58-da2603bd146b",
   "metadata": {},
   "source": [
    "## Cleanup Fabric"
   ]
  },
  {
   "cell_type": "code",
   "execution_count": null,
   "id": "6cb6751e-d888-46c4-9b00-001bdde7648a",
   "metadata": {},
   "outputs": [],
   "source": [
    "try:\n",
    "    fabric_slice = fablib.get_slice(fabric_slice_name)\n",
    "    fabric_slice.delete()\n",
    "except Exception as e:\n",
    "    print(f\"Exception: {e}\")"
   ]
  }
 ],
 "metadata": {
  "kernelspec": {
   "display_name": "Python 3 (ipykernel)",
   "language": "python",
   "name": "python3"
  },
  "language_info": {
   "codemirror_mode": {
    "name": "ipython",
    "version": 3
   },
   "file_extension": ".py",
   "mimetype": "text/x-python",
   "name": "python",
   "nbconvert_exporter": "python",
   "pygments_lexer": "ipython3",
   "version": "3.9.17"
  }
 },
 "nbformat": 4,
 "nbformat_minor": 5
}
